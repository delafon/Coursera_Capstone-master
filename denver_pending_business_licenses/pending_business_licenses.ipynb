{
 "metadata": {
  "language_info": {
   "codemirror_mode": {
    "name": "ipython",
    "version": 3
   },
   "file_extension": ".py",
   "mimetype": "text/x-python",
   "name": "python",
   "nbconvert_exporter": "python",
   "pygments_lexer": "ipython3",
   "version": "3.9.2"
  },
  "orig_nbformat": 2,
  "kernelspec": {
   "name": "python392jvsc74a57bd095b14c65cba157f3e388cf46f8c1a80959cb35fafb91bd5294f4635bd30c391b",
   "display_name": "Python 3.9.2 64-bit ('ibmds': conda)"
  }
 },
 "nbformat": 4,
 "nbformat_minor": 2,
 "cells": [
  {
   "source": [
    "***Introduction/Background***\n",
    "\n",
    "Denver, CO is one of the fastest growing cities in the United States, which makes it a potentially fruitful location for new restaurants. Given its size, however, there are numerous potential locations for a new restaurant. One way to gain insight about where to place a new restaurant is by examining where in the city other new restaurants are choosing to locate. Fortunately, Denver makes available a list of pending business applications and the addresses in the city associated with these applications. \n",
    "\n",
    "Knowing where new restaurants are choosing to locate within the city is useful information, but we may not want to locate a new restaurant nearby ourselves because of increased competition. Instead, we can characterize the surrounding neighborhood of these upcoming restaurants and use these characteristics to find other areas in the city for potential new restaurant locations.\n",
    "\n",
    "The aim of this study is to generate several sets of neighborhood characteristics being sought by new restaurants in Denver using Foursquare data. This study would be interesting to several different audiences including restrauteurs, local chambers of commerce city planners, and urban developers looking either to start a new restaurant, promote neighborhoods suitable for new restaurants, or create neighborhoods that are desirable to restrauters. \n",
    "\n",
    "\n",
    "***Data***\n",
    "\n",
    "Denver, CO provides data on pending business applications within the city publicly available at https://www.denvergov.org/opendata/dataset/city-and-county-of-denver-pending-business-licenses.\n",
    "\n",
    "Within this dataset, the city provides the type of license being applied for and the address associated with the business license application. Filtering by license type and sub-license type for 'Retail Food Establishment' and 'Restaurant', respectively, it is possible to generate a list of addresses of restaurant businesses with pending applications. After generating coordinate data for the addresses, we can query Foursquare for surrounding venues and perform clustering to generate sets of neighborhood characteristics associated with new restaurant business applications in Denver.\n"
   ],
   "cell_type": "markdown",
   "metadata": {}
  },
  {
   "cell_type": "code",
   "execution_count": 50,
   "metadata": {},
   "outputs": [],
   "source": [
    "import numpy as np # library to handle data in a vectorized manner\n",
    "\n",
    "import pandas as pd # library for data analsysis\n",
    "\n",
    "import json # library to handle JSON files\n",
    "\n",
    "#!conda install -c conda-forge geopy --yes # uncomment this line if you haven't completed the Foursquare API lab\n",
    "from geopy.geocoders import Nominatim # convert an address into latitude and longitude values\n",
    "\n",
    "import requests # library to handle requests\n",
    "from pandas.io.json import json_normalize # tranform JSON file into a pandas dataframe\n",
    "\n",
    "# Matplotlib and associated plotting modules\n",
    "import matplotlib.cm as cm\n",
    "import matplotlib.colors as colors\n",
    "\n",
    "# import k-means from clustering stage\n",
    "from sklearn.cluster import KMeans\n",
    "\n",
    "#!conda install -c conda-forge folium=0.5.0 --yes # uncomment this line if you haven't completed the Foursquare API lab\n",
    "import folium # map rendering library\n",
    "\n",
    "print('Libraries imported.')"
   ]
  },
  {
   "cell_type": "code",
   "execution_count": 51,
   "metadata": {},
   "outputs": [
    {
     "output_type": "execute_result",
     "data": {
      "text/plain": [
       "                BFN               LICENSE_TYPE LICENSE_SUB_TYPE  \\\n",
       "0  2021-BFN-0002021  Retail Food Establishment           Mobile   \n",
       "1  2021-BFN-0002028  Retail Food Establishment       Restaurant   \n",
       "2  2019-BFN-0001302           Combined License              NaN   \n",
       "3  2020-BFN-0000952              Swimming Pool              NaN   \n",
       "4  2019-BFN-0011393  Retail Food Establishment       Restaurant   \n",
       "\n",
       "  LICENSE_STATUS        EXPIRATION_DATE                    ENTITY_NAME  \\\n",
       "0        Pending   4/6/2021 12:26:16 PM            AISHA'S KITCHEN LLC   \n",
       "1        Pending    4/6/2021 1:23:48 PM          PETUNIA BAKE SHOP LLC   \n",
       "2        Pending  2/14/2019 12:54:33 PM      PROST BREWING COMPANY LLC   \n",
       "3        Pending  2/12/2020 12:22:54 PM   CONCHA TOWNHOUSE ASSOCIATION   \n",
       "4        Pending   12/9/2019 8:20:12 AM  RAISING CANES RESTAURANTS LLC   \n",
       "\n",
       "                ESTABLISHMENT_ADDRESS  \n",
       "0      496  FLORENCE ST  AURORA 80010  \n",
       "1       3000 W 23rd Ave  Denver 80211  \n",
       "2         2540  19th St  Denver 80211  \n",
       "3       7882 E Iowa Ave  Denver 80231  \n",
       "4  1190 S Colorado Blvd  Denver 80246  "
      ],
      "text/html": "<div>\n<style scoped>\n    .dataframe tbody tr th:only-of-type {\n        vertical-align: middle;\n    }\n\n    .dataframe tbody tr th {\n        vertical-align: top;\n    }\n\n    .dataframe thead th {\n        text-align: right;\n    }\n</style>\n<table border=\"1\" class=\"dataframe\">\n  <thead>\n    <tr style=\"text-align: right;\">\n      <th></th>\n      <th>BFN</th>\n      <th>LICENSE_TYPE</th>\n      <th>LICENSE_SUB_TYPE</th>\n      <th>LICENSE_STATUS</th>\n      <th>EXPIRATION_DATE</th>\n      <th>ENTITY_NAME</th>\n      <th>ESTABLISHMENT_ADDRESS</th>\n    </tr>\n  </thead>\n  <tbody>\n    <tr>\n      <th>0</th>\n      <td>2021-BFN-0002021</td>\n      <td>Retail Food Establishment</td>\n      <td>Mobile</td>\n      <td>Pending</td>\n      <td>4/6/2021 12:26:16 PM</td>\n      <td>AISHA'S KITCHEN LLC</td>\n      <td>496  FLORENCE ST  AURORA 80010</td>\n    </tr>\n    <tr>\n      <th>1</th>\n      <td>2021-BFN-0002028</td>\n      <td>Retail Food Establishment</td>\n      <td>Restaurant</td>\n      <td>Pending</td>\n      <td>4/6/2021 1:23:48 PM</td>\n      <td>PETUNIA BAKE SHOP LLC</td>\n      <td>3000 W 23rd Ave  Denver 80211</td>\n    </tr>\n    <tr>\n      <th>2</th>\n      <td>2019-BFN-0001302</td>\n      <td>Combined License</td>\n      <td>NaN</td>\n      <td>Pending</td>\n      <td>2/14/2019 12:54:33 PM</td>\n      <td>PROST BREWING COMPANY LLC</td>\n      <td>2540  19th St  Denver 80211</td>\n    </tr>\n    <tr>\n      <th>3</th>\n      <td>2020-BFN-0000952</td>\n      <td>Swimming Pool</td>\n      <td>NaN</td>\n      <td>Pending</td>\n      <td>2/12/2020 12:22:54 PM</td>\n      <td>CONCHA TOWNHOUSE ASSOCIATION</td>\n      <td>7882 E Iowa Ave  Denver 80231</td>\n    </tr>\n    <tr>\n      <th>4</th>\n      <td>2019-BFN-0011393</td>\n      <td>Retail Food Establishment</td>\n      <td>Restaurant</td>\n      <td>Pending</td>\n      <td>12/9/2019 8:20:12 AM</td>\n      <td>RAISING CANES RESTAURANTS LLC</td>\n      <td>1190 S Colorado Blvd  Denver 80246</td>\n    </tr>\n  </tbody>\n</table>\n</div>"
     },
     "metadata": {},
     "execution_count": 51
    }
   ],
   "source": [
    "df = pd.read_csv('pending_business_licenses.csv')\n",
    "df.head()"
   ]
  },
  {
   "source": [
    "***Methods***\n",
    "\n",
    "After obtaining a list of all pending business licenses in the city of Denver, a quick count revealed 690 pending applications. Out of these 690 applications, 182 were categorized as 'Retail Food Establishment'. Within this license type, there were 4 sub-types: 'Mobile', 'Restaurant', 'Restaurant - Stand Up', and 'Restaurant - Temporary'. Unfortunately, the documentation of the data set did not provide any additional information describing the nature of these sub-types. Given time constraints, I decided to limit the analysis to the 'Restaurant' sub-type, which resulted in 83 applications. Further review of the remaining applications revealed that the list included expired licenses. Due to the rapidly changing nature of growing cities like Denver, I decided to limit to analysis to pending applications that are either active or expired within 2020. This resulted in only removing 1 application leaving a total of 82 applications for further analysis.\n",
    "\n",
    "To obtain coordinates for the application locations, I separated the provided addresses into the street address, city, state, and zip code and created a CSV file suitable for batch processing by the US Census Geocoder per their guidelines (https://geocoding.geo.census.gov/geocoder/locations/addressbatch?form). I obtained coordinates for 68 of the applications from the US Census Geocoder. The remainder I manually looked up on Google Maps.\n",
    "\n",
    "The Foursquare API was then queried using the coordinates of each application to obtain venue data within 500 meters of each address. 500 meters was chosen as neighborhoods in Denver appear to be spaced roughly a kilometer apart, thus a radius of 500 meters around the address would be analagous to the neighborhood of the address. Each venue resulting from the query was then binned into their respective categories provided by Foursquare. The category data was transformed using one-hot encoding and the means of each category per application was calculated. K-means clustering was then applied to the matrix of the ten most frequent venues per address. A k of 5 chosen to obtain 5 sets of neighborhood characteristics of pending restaurant business applications. The labels generated via k-means were used to generate a map of the application addresses and to assess differences in characteristics of nearby addresses labelled differently."
   ],
   "cell_type": "markdown",
   "metadata": {}
  },
  {
   "cell_type": "code",
   "execution_count": 52,
   "metadata": {},
   "outputs": [
    {
     "output_type": "execute_result",
     "data": {
      "text/plain": [
       "(690, 7)"
      ]
     },
     "metadata": {},
     "execution_count": 52
    }
   ],
   "source": [
    "df.shape"
   ]
  },
  {
   "cell_type": "code",
   "execution_count": 53,
   "metadata": {},
   "outputs": [],
   "source": [
    "df['EXPIRATION_DATE'] = pd.to_datetime(df['EXPIRATION_DATE'])"
   ]
  },
  {
   "cell_type": "code",
   "execution_count": 54,
   "metadata": {},
   "outputs": [
    {
     "output_type": "execute_result",
     "data": {
      "text/plain": [
       "                                BFN  LICENSE_SUB_TYPE  LICENSE_STATUS  \\\n",
       "LICENSE_TYPE                                                            \n",
       "Auto Parts Recycler               1                 0               1   \n",
       "Boarding Home                     5                 0               5   \n",
       "Boarding Home - Personal Care     2                 0               2   \n",
       "Body Art Est - Permanent          7                 0               7   \n",
       "Burglar Alarm System Company      3                 0               3   \n",
       "Child Care                       33                33              33   \n",
       "Child Care Center                 3                 0               3   \n",
       "Child Care Home                   7                 0               7   \n",
       "Combined License                114                 0             114   \n",
       "Food - Retail                    35                35              35   \n",
       "Food - Wholesale                 18                18              18   \n",
       "Garage - Repair of Motor Vehic   17                 0              17   \n",
       "Kennel                            2                 0               2   \n",
       "Liquor                           21                21              21   \n",
       "Lodging Facility                  8                 0               8   \n",
       "Marijuana Transporter             5                 0               5   \n",
       "Med Marijuana Inf Prod Manuf     11                 0              11   \n",
       "Parking Lot, Garage               9                 0               9   \n",
       "Pedal Cab Company                 1                 0               1   \n",
       "Private Security Employer        12                 0              12   \n",
       "Retail Food Establishment       182               182             182   \n",
       "Retail Marij Opt. Prem. Cultiv    5                 0               5   \n",
       "Retail Marijuana Inf Prod Mfg    15                 0              15   \n",
       "Retail Marijuana Store            7                 0               7   \n",
       "Retail Tobacco Store             61                 0              61   \n",
       "Second Hand Dealer                1                 0               1   \n",
       "Short Term Rental                61                 0              61   \n",
       "Swimming Pool                    22                 0              22   \n",
       "Tree Service Company             16                 0              16   \n",
       "Valet Location License            3                 0               3   \n",
       "Waste Hauler                      3                 0               3   \n",
       "\n",
       "                                EXPIRATION_DATE  ENTITY_NAME  \\\n",
       "LICENSE_TYPE                                                   \n",
       "Auto Parts Recycler                           1            1   \n",
       "Boarding Home                                 5            5   \n",
       "Boarding Home - Personal Care                 2            2   \n",
       "Body Art Est - Permanent                      7            7   \n",
       "Burglar Alarm System Company                  3            3   \n",
       "Child Care                                   33           32   \n",
       "Child Care Center                             3            3   \n",
       "Child Care Home                               7            7   \n",
       "Combined License                            114          114   \n",
       "Food - Retail                                35           35   \n",
       "Food - Wholesale                             18           18   \n",
       "Garage - Repair of Motor Vehic               17           17   \n",
       "Kennel                                        2            2   \n",
       "Liquor                                       21           21   \n",
       "Lodging Facility                              8            8   \n",
       "Marijuana Transporter                         5            5   \n",
       "Med Marijuana Inf Prod Manuf                 11           11   \n",
       "Parking Lot, Garage                           9            9   \n",
       "Pedal Cab Company                             1            1   \n",
       "Private Security Employer                    12           12   \n",
       "Retail Food Establishment                   182          181   \n",
       "Retail Marij Opt. Prem. Cultiv                5            5   \n",
       "Retail Marijuana Inf Prod Mfg                15           15   \n",
       "Retail Marijuana Store                        7            7   \n",
       "Retail Tobacco Store                         61           59   \n",
       "Second Hand Dealer                            1            1   \n",
       "Short Term Rental                            61           61   \n",
       "Swimming Pool                                22           22   \n",
       "Tree Service Company                         16           16   \n",
       "Valet Location License                        3            3   \n",
       "Waste Hauler                                  3            3   \n",
       "\n",
       "                                ESTABLISHMENT_ADDRESS  \n",
       "LICENSE_TYPE                                           \n",
       "Auto Parts Recycler                                 1  \n",
       "Boarding Home                                       5  \n",
       "Boarding Home - Personal Care                       2  \n",
       "Body Art Est - Permanent                            7  \n",
       "Burglar Alarm System Company                        3  \n",
       "Child Care                                         33  \n",
       "Child Care Center                                   3  \n",
       "Child Care Home                                     7  \n",
       "Combined License                                  114  \n",
       "Food - Retail                                      35  \n",
       "Food - Wholesale                                   18  \n",
       "Garage - Repair of Motor Vehic                     17  \n",
       "Kennel                                              2  \n",
       "Liquor                                             21  \n",
       "Lodging Facility                                    8  \n",
       "Marijuana Transporter                               5  \n",
       "Med Marijuana Inf Prod Manuf                       11  \n",
       "Parking Lot, Garage                                 9  \n",
       "Pedal Cab Company                                   1  \n",
       "Private Security Employer                          12  \n",
       "Retail Food Establishment                         182  \n",
       "Retail Marij Opt. Prem. Cultiv                      5  \n",
       "Retail Marijuana Inf Prod Mfg                      15  \n",
       "Retail Marijuana Store                              7  \n",
       "Retail Tobacco Store                               61  \n",
       "Second Hand Dealer                                  1  \n",
       "Short Term Rental                                  61  \n",
       "Swimming Pool                                      22  \n",
       "Tree Service Company                               16  \n",
       "Valet Location License                              3  \n",
       "Waste Hauler                                        3  "
      ],
      "text/html": "<div>\n<style scoped>\n    .dataframe tbody tr th:only-of-type {\n        vertical-align: middle;\n    }\n\n    .dataframe tbody tr th {\n        vertical-align: top;\n    }\n\n    .dataframe thead th {\n        text-align: right;\n    }\n</style>\n<table border=\"1\" class=\"dataframe\">\n  <thead>\n    <tr style=\"text-align: right;\">\n      <th></th>\n      <th>BFN</th>\n      <th>LICENSE_SUB_TYPE</th>\n      <th>LICENSE_STATUS</th>\n      <th>EXPIRATION_DATE</th>\n      <th>ENTITY_NAME</th>\n      <th>ESTABLISHMENT_ADDRESS</th>\n    </tr>\n    <tr>\n      <th>LICENSE_TYPE</th>\n      <th></th>\n      <th></th>\n      <th></th>\n      <th></th>\n      <th></th>\n      <th></th>\n    </tr>\n  </thead>\n  <tbody>\n    <tr>\n      <th>Auto Parts Recycler</th>\n      <td>1</td>\n      <td>0</td>\n      <td>1</td>\n      <td>1</td>\n      <td>1</td>\n      <td>1</td>\n    </tr>\n    <tr>\n      <th>Boarding Home</th>\n      <td>5</td>\n      <td>0</td>\n      <td>5</td>\n      <td>5</td>\n      <td>5</td>\n      <td>5</td>\n    </tr>\n    <tr>\n      <th>Boarding Home - Personal Care</th>\n      <td>2</td>\n      <td>0</td>\n      <td>2</td>\n      <td>2</td>\n      <td>2</td>\n      <td>2</td>\n    </tr>\n    <tr>\n      <th>Body Art Est - Permanent</th>\n      <td>7</td>\n      <td>0</td>\n      <td>7</td>\n      <td>7</td>\n      <td>7</td>\n      <td>7</td>\n    </tr>\n    <tr>\n      <th>Burglar Alarm System Company</th>\n      <td>3</td>\n      <td>0</td>\n      <td>3</td>\n      <td>3</td>\n      <td>3</td>\n      <td>3</td>\n    </tr>\n    <tr>\n      <th>Child Care</th>\n      <td>33</td>\n      <td>33</td>\n      <td>33</td>\n      <td>33</td>\n      <td>32</td>\n      <td>33</td>\n    </tr>\n    <tr>\n      <th>Child Care Center</th>\n      <td>3</td>\n      <td>0</td>\n      <td>3</td>\n      <td>3</td>\n      <td>3</td>\n      <td>3</td>\n    </tr>\n    <tr>\n      <th>Child Care Home</th>\n      <td>7</td>\n      <td>0</td>\n      <td>7</td>\n      <td>7</td>\n      <td>7</td>\n      <td>7</td>\n    </tr>\n    <tr>\n      <th>Combined License</th>\n      <td>114</td>\n      <td>0</td>\n      <td>114</td>\n      <td>114</td>\n      <td>114</td>\n      <td>114</td>\n    </tr>\n    <tr>\n      <th>Food - Retail</th>\n      <td>35</td>\n      <td>35</td>\n      <td>35</td>\n      <td>35</td>\n      <td>35</td>\n      <td>35</td>\n    </tr>\n    <tr>\n      <th>Food - Wholesale</th>\n      <td>18</td>\n      <td>18</td>\n      <td>18</td>\n      <td>18</td>\n      <td>18</td>\n      <td>18</td>\n    </tr>\n    <tr>\n      <th>Garage - Repair of Motor Vehic</th>\n      <td>17</td>\n      <td>0</td>\n      <td>17</td>\n      <td>17</td>\n      <td>17</td>\n      <td>17</td>\n    </tr>\n    <tr>\n      <th>Kennel</th>\n      <td>2</td>\n      <td>0</td>\n      <td>2</td>\n      <td>2</td>\n      <td>2</td>\n      <td>2</td>\n    </tr>\n    <tr>\n      <th>Liquor</th>\n      <td>21</td>\n      <td>21</td>\n      <td>21</td>\n      <td>21</td>\n      <td>21</td>\n      <td>21</td>\n    </tr>\n    <tr>\n      <th>Lodging Facility</th>\n      <td>8</td>\n      <td>0</td>\n      <td>8</td>\n      <td>8</td>\n      <td>8</td>\n      <td>8</td>\n    </tr>\n    <tr>\n      <th>Marijuana Transporter</th>\n      <td>5</td>\n      <td>0</td>\n      <td>5</td>\n      <td>5</td>\n      <td>5</td>\n      <td>5</td>\n    </tr>\n    <tr>\n      <th>Med Marijuana Inf Prod Manuf</th>\n      <td>11</td>\n      <td>0</td>\n      <td>11</td>\n      <td>11</td>\n      <td>11</td>\n      <td>11</td>\n    </tr>\n    <tr>\n      <th>Parking Lot, Garage</th>\n      <td>9</td>\n      <td>0</td>\n      <td>9</td>\n      <td>9</td>\n      <td>9</td>\n      <td>9</td>\n    </tr>\n    <tr>\n      <th>Pedal Cab Company</th>\n      <td>1</td>\n      <td>0</td>\n      <td>1</td>\n      <td>1</td>\n      <td>1</td>\n      <td>1</td>\n    </tr>\n    <tr>\n      <th>Private Security Employer</th>\n      <td>12</td>\n      <td>0</td>\n      <td>12</td>\n      <td>12</td>\n      <td>12</td>\n      <td>12</td>\n    </tr>\n    <tr>\n      <th>Retail Food Establishment</th>\n      <td>182</td>\n      <td>182</td>\n      <td>182</td>\n      <td>182</td>\n      <td>181</td>\n      <td>182</td>\n    </tr>\n    <tr>\n      <th>Retail Marij Opt. Prem. Cultiv</th>\n      <td>5</td>\n      <td>0</td>\n      <td>5</td>\n      <td>5</td>\n      <td>5</td>\n      <td>5</td>\n    </tr>\n    <tr>\n      <th>Retail Marijuana Inf Prod Mfg</th>\n      <td>15</td>\n      <td>0</td>\n      <td>15</td>\n      <td>15</td>\n      <td>15</td>\n      <td>15</td>\n    </tr>\n    <tr>\n      <th>Retail Marijuana Store</th>\n      <td>7</td>\n      <td>0</td>\n      <td>7</td>\n      <td>7</td>\n      <td>7</td>\n      <td>7</td>\n    </tr>\n    <tr>\n      <th>Retail Tobacco Store</th>\n      <td>61</td>\n      <td>0</td>\n      <td>61</td>\n      <td>61</td>\n      <td>59</td>\n      <td>61</td>\n    </tr>\n    <tr>\n      <th>Second Hand Dealer</th>\n      <td>1</td>\n      <td>0</td>\n      <td>1</td>\n      <td>1</td>\n      <td>1</td>\n      <td>1</td>\n    </tr>\n    <tr>\n      <th>Short Term Rental</th>\n      <td>61</td>\n      <td>0</td>\n      <td>61</td>\n      <td>61</td>\n      <td>61</td>\n      <td>61</td>\n    </tr>\n    <tr>\n      <th>Swimming Pool</th>\n      <td>22</td>\n      <td>0</td>\n      <td>22</td>\n      <td>22</td>\n      <td>22</td>\n      <td>22</td>\n    </tr>\n    <tr>\n      <th>Tree Service Company</th>\n      <td>16</td>\n      <td>0</td>\n      <td>16</td>\n      <td>16</td>\n      <td>16</td>\n      <td>16</td>\n    </tr>\n    <tr>\n      <th>Valet Location License</th>\n      <td>3</td>\n      <td>0</td>\n      <td>3</td>\n      <td>3</td>\n      <td>3</td>\n      <td>3</td>\n    </tr>\n    <tr>\n      <th>Waste Hauler</th>\n      <td>3</td>\n      <td>0</td>\n      <td>3</td>\n      <td>3</td>\n      <td>3</td>\n      <td>3</td>\n    </tr>\n  </tbody>\n</table>\n</div>"
     },
     "metadata": {},
     "execution_count": 54
    }
   ],
   "source": [
    "df.groupby('LICENSE_TYPE').count()"
   ]
  },
  {
   "cell_type": "code",
   "execution_count": 55,
   "metadata": {},
   "outputs": [
    {
     "output_type": "execute_result",
     "data": {
      "text/plain": [
       "                        BFN  LICENSE_TYPE  LICENSE_STATUS  EXPIRATION_DATE  \\\n",
       "LICENSE_SUB_TYPE                                                             \n",
       "Mobile                   32            32              32               32   \n",
       "Restaurant               83            83              83               83   \n",
       "Restaurant - Stand-Up    25            25              25               25   \n",
       "Restaurant - Temporary   42            42              42               42   \n",
       "\n",
       "                        ENTITY_NAME  ESTABLISHMENT_ADDRESS  \n",
       "LICENSE_SUB_TYPE                                            \n",
       "Mobile                           32                     32  \n",
       "Restaurant                       83                     83  \n",
       "Restaurant - Stand-Up            25                     25  \n",
       "Restaurant - Temporary           41                     42  "
      ],
      "text/html": "<div>\n<style scoped>\n    .dataframe tbody tr th:only-of-type {\n        vertical-align: middle;\n    }\n\n    .dataframe tbody tr th {\n        vertical-align: top;\n    }\n\n    .dataframe thead th {\n        text-align: right;\n    }\n</style>\n<table border=\"1\" class=\"dataframe\">\n  <thead>\n    <tr style=\"text-align: right;\">\n      <th></th>\n      <th>BFN</th>\n      <th>LICENSE_TYPE</th>\n      <th>LICENSE_STATUS</th>\n      <th>EXPIRATION_DATE</th>\n      <th>ENTITY_NAME</th>\n      <th>ESTABLISHMENT_ADDRESS</th>\n    </tr>\n    <tr>\n      <th>LICENSE_SUB_TYPE</th>\n      <th></th>\n      <th></th>\n      <th></th>\n      <th></th>\n      <th></th>\n      <th></th>\n    </tr>\n  </thead>\n  <tbody>\n    <tr>\n      <th>Mobile</th>\n      <td>32</td>\n      <td>32</td>\n      <td>32</td>\n      <td>32</td>\n      <td>32</td>\n      <td>32</td>\n    </tr>\n    <tr>\n      <th>Restaurant</th>\n      <td>83</td>\n      <td>83</td>\n      <td>83</td>\n      <td>83</td>\n      <td>83</td>\n      <td>83</td>\n    </tr>\n    <tr>\n      <th>Restaurant - Stand-Up</th>\n      <td>25</td>\n      <td>25</td>\n      <td>25</td>\n      <td>25</td>\n      <td>25</td>\n      <td>25</td>\n    </tr>\n    <tr>\n      <th>Restaurant - Temporary</th>\n      <td>42</td>\n      <td>42</td>\n      <td>42</td>\n      <td>42</td>\n      <td>41</td>\n      <td>42</td>\n    </tr>\n  </tbody>\n</table>\n</div>"
     },
     "metadata": {},
     "execution_count": 55
    }
   ],
   "source": [
    "df[df['LICENSE_TYPE'] == 'Retail Food Establishment'].groupby('LICENSE_SUB_TYPE').count()"
   ]
  },
  {
   "cell_type": "code",
   "execution_count": 87,
   "metadata": {},
   "outputs": [],
   "source": [
    "restaurants_df = df[(df['LICENSE_TYPE'] == 'Retail Food Establishment') & (df['LICENSE_SUB_TYPE'] == 'Restaurant')]"
   ]
  },
  {
   "cell_type": "code",
   "execution_count": 81,
   "metadata": {},
   "outputs": [
    {
     "output_type": "execute_result",
     "data": {
      "text/plain": [
       "                 BFN               LICENSE_TYPE LICENSE_SUB_TYPE  \\\n",
       "1   2021-BFN-0002028  Retail Food Establishment       Restaurant   \n",
       "4   2019-BFN-0011393  Retail Food Establishment       Restaurant   \n",
       "13  2020-BFN-0003219  Retail Food Establishment       Restaurant   \n",
       "24  2020-BFN-0002411  Retail Food Establishment       Restaurant   \n",
       "37  2020-BFN-0006879  Retail Food Establishment       Restaurant   \n",
       "\n",
       "   LICENSE_STATUS     EXPIRATION_DATE                    ENTITY_NAME  \\\n",
       "1         Pending 2021-04-06 13:23:48          PETUNIA BAKE SHOP LLC   \n",
       "4         Pending 2019-12-09 08:20:12  RAISING CANES RESTAURANTS LLC   \n",
       "13        Pending 2020-06-24 13:34:06                 EPIQ PIZZA LLC   \n",
       "24        Pending 2020-05-07 14:57:46       SAGE DINING SERVICES INC   \n",
       "37        Pending 2020-12-14 15:10:35             SODEXO AMERICA LLC   \n",
       "\n",
       "                 ESTABLISHMENT_ADDRESS  \n",
       "1        3000 W 23rd Ave  Denver 80211  \n",
       "4   1190 S Colorado Blvd  Denver 80246  \n",
       "13   1147 N Broadway  103 Denver 80203  \n",
       "24        7701 E 1st Pl C Denver 80230  \n",
       "37      2055 E Evans Ave  Denver 80210  "
      ],
      "text/html": "<div>\n<style scoped>\n    .dataframe tbody tr th:only-of-type {\n        vertical-align: middle;\n    }\n\n    .dataframe tbody tr th {\n        vertical-align: top;\n    }\n\n    .dataframe thead th {\n        text-align: right;\n    }\n</style>\n<table border=\"1\" class=\"dataframe\">\n  <thead>\n    <tr style=\"text-align: right;\">\n      <th></th>\n      <th>BFN</th>\n      <th>LICENSE_TYPE</th>\n      <th>LICENSE_SUB_TYPE</th>\n      <th>LICENSE_STATUS</th>\n      <th>EXPIRATION_DATE</th>\n      <th>ENTITY_NAME</th>\n      <th>ESTABLISHMENT_ADDRESS</th>\n    </tr>\n  </thead>\n  <tbody>\n    <tr>\n      <th>1</th>\n      <td>2021-BFN-0002028</td>\n      <td>Retail Food Establishment</td>\n      <td>Restaurant</td>\n      <td>Pending</td>\n      <td>2021-04-06 13:23:48</td>\n      <td>PETUNIA BAKE SHOP LLC</td>\n      <td>3000 W 23rd Ave  Denver 80211</td>\n    </tr>\n    <tr>\n      <th>4</th>\n      <td>2019-BFN-0011393</td>\n      <td>Retail Food Establishment</td>\n      <td>Restaurant</td>\n      <td>Pending</td>\n      <td>2019-12-09 08:20:12</td>\n      <td>RAISING CANES RESTAURANTS LLC</td>\n      <td>1190 S Colorado Blvd  Denver 80246</td>\n    </tr>\n    <tr>\n      <th>13</th>\n      <td>2020-BFN-0003219</td>\n      <td>Retail Food Establishment</td>\n      <td>Restaurant</td>\n      <td>Pending</td>\n      <td>2020-06-24 13:34:06</td>\n      <td>EPIQ PIZZA LLC</td>\n      <td>1147 N Broadway  103 Denver 80203</td>\n    </tr>\n    <tr>\n      <th>24</th>\n      <td>2020-BFN-0002411</td>\n      <td>Retail Food Establishment</td>\n      <td>Restaurant</td>\n      <td>Pending</td>\n      <td>2020-05-07 14:57:46</td>\n      <td>SAGE DINING SERVICES INC</td>\n      <td>7701 E 1st Pl C Denver 80230</td>\n    </tr>\n    <tr>\n      <th>37</th>\n      <td>2020-BFN-0006879</td>\n      <td>Retail Food Establishment</td>\n      <td>Restaurant</td>\n      <td>Pending</td>\n      <td>2020-12-14 15:10:35</td>\n      <td>SODEXO AMERICA LLC</td>\n      <td>2055 E Evans Ave  Denver 80210</td>\n    </tr>\n  </tbody>\n</table>\n</div>"
     },
     "metadata": {},
     "execution_count": 81
    }
   ],
   "source": [
    "restaurants_df.head()"
   ]
  },
  {
   "cell_type": "code",
   "execution_count": 82,
   "metadata": {},
   "outputs": [
    {
     "output_type": "execute_result",
     "data": {
      "text/plain": [
       "                  BFN               LICENSE_TYPE LICENSE_SUB_TYPE  \\\n",
       "1    2021-BFN-0002028  Retail Food Establishment       Restaurant   \n",
       "13   2020-BFN-0003219  Retail Food Establishment       Restaurant   \n",
       "24   2020-BFN-0002411  Retail Food Establishment       Restaurant   \n",
       "37   2020-BFN-0006879  Retail Food Establishment       Restaurant   \n",
       "53   2021-BFN-0001470  Retail Food Establishment       Restaurant   \n",
       "..                ...                        ...              ...   \n",
       "628  2021-BFN-0002051  Retail Food Establishment       Restaurant   \n",
       "652  2020-BFN-0006128  Retail Food Establishment       Restaurant   \n",
       "656  2020-BFN-0006881  Retail Food Establishment       Restaurant   \n",
       "662  2021-BFN-0000237  Retail Food Establishment       Restaurant   \n",
       "671  2021-BFN-0001768  Retail Food Establishment       Restaurant   \n",
       "\n",
       "    LICENSE_STATUS     EXPIRATION_DATE               ENTITY_NAME  \\\n",
       "1          Pending 2021-04-06 13:23:48     PETUNIA BAKE SHOP LLC   \n",
       "13         Pending 2020-06-24 13:34:06            EPIQ PIZZA LLC   \n",
       "24         Pending 2020-05-07 14:57:46  SAGE DINING SERVICES INC   \n",
       "37         Pending 2020-12-14 15:10:35        SODEXO AMERICA LLC   \n",
       "53         Pending 2021-03-10 11:32:24         THE FIT FOODS LLC   \n",
       "..             ...                 ...                       ...   \n",
       "628        Pending 2021-04-07 10:43:23        ERE BUCHTEL FG LLC   \n",
       "652        Pending 2020-11-19 10:46:29     STARBUCKS CORPORATION   \n",
       "656        Pending 2020-12-14 15:15:18        SODEXO AMERICA LLC   \n",
       "662        Pending 2021-01-12 13:51:45        WHOLE SOL RINO LLC   \n",
       "671        Pending 2021-03-25 13:01:07      HIMALAYAN SPICY, LLC   \n",
       "\n",
       "                      ESTABLISHMENT_ADDRESS  \n",
       "1             3000 W 23rd Ave  Denver 80211  \n",
       "13        1147 N Broadway  103 Denver 80203  \n",
       "24             7701 E 1st Pl C Denver 80230  \n",
       "37           2055 E Evans Ave  Denver 80210  \n",
       "53   201 N University Blvd 108 Denver 80206  \n",
       "..                                      ...  \n",
       "628   2023 S Colorado Blvd 103 Denver 80222  \n",
       "652           6691 N Tower Rd  Denver 80249  \n",
       "656          2055 E Evans Ave  Denver 80210  \n",
       "662           3605  Walnut St  Denver 80205  \n",
       "671        4275 N Tennyson St  Denver 80212  \n",
       "\n",
       "[82 rows x 7 columns]"
      ],
      "text/html": "<div>\n<style scoped>\n    .dataframe tbody tr th:only-of-type {\n        vertical-align: middle;\n    }\n\n    .dataframe tbody tr th {\n        vertical-align: top;\n    }\n\n    .dataframe thead th {\n        text-align: right;\n    }\n</style>\n<table border=\"1\" class=\"dataframe\">\n  <thead>\n    <tr style=\"text-align: right;\">\n      <th></th>\n      <th>BFN</th>\n      <th>LICENSE_TYPE</th>\n      <th>LICENSE_SUB_TYPE</th>\n      <th>LICENSE_STATUS</th>\n      <th>EXPIRATION_DATE</th>\n      <th>ENTITY_NAME</th>\n      <th>ESTABLISHMENT_ADDRESS</th>\n    </tr>\n  </thead>\n  <tbody>\n    <tr>\n      <th>1</th>\n      <td>2021-BFN-0002028</td>\n      <td>Retail Food Establishment</td>\n      <td>Restaurant</td>\n      <td>Pending</td>\n      <td>2021-04-06 13:23:48</td>\n      <td>PETUNIA BAKE SHOP LLC</td>\n      <td>3000 W 23rd Ave  Denver 80211</td>\n    </tr>\n    <tr>\n      <th>13</th>\n      <td>2020-BFN-0003219</td>\n      <td>Retail Food Establishment</td>\n      <td>Restaurant</td>\n      <td>Pending</td>\n      <td>2020-06-24 13:34:06</td>\n      <td>EPIQ PIZZA LLC</td>\n      <td>1147 N Broadway  103 Denver 80203</td>\n    </tr>\n    <tr>\n      <th>24</th>\n      <td>2020-BFN-0002411</td>\n      <td>Retail Food Establishment</td>\n      <td>Restaurant</td>\n      <td>Pending</td>\n      <td>2020-05-07 14:57:46</td>\n      <td>SAGE DINING SERVICES INC</td>\n      <td>7701 E 1st Pl C Denver 80230</td>\n    </tr>\n    <tr>\n      <th>37</th>\n      <td>2020-BFN-0006879</td>\n      <td>Retail Food Establishment</td>\n      <td>Restaurant</td>\n      <td>Pending</td>\n      <td>2020-12-14 15:10:35</td>\n      <td>SODEXO AMERICA LLC</td>\n      <td>2055 E Evans Ave  Denver 80210</td>\n    </tr>\n    <tr>\n      <th>53</th>\n      <td>2021-BFN-0001470</td>\n      <td>Retail Food Establishment</td>\n      <td>Restaurant</td>\n      <td>Pending</td>\n      <td>2021-03-10 11:32:24</td>\n      <td>THE FIT FOODS LLC</td>\n      <td>201 N University Blvd 108 Denver 80206</td>\n    </tr>\n    <tr>\n      <th>...</th>\n      <td>...</td>\n      <td>...</td>\n      <td>...</td>\n      <td>...</td>\n      <td>...</td>\n      <td>...</td>\n      <td>...</td>\n    </tr>\n    <tr>\n      <th>628</th>\n      <td>2021-BFN-0002051</td>\n      <td>Retail Food Establishment</td>\n      <td>Restaurant</td>\n      <td>Pending</td>\n      <td>2021-04-07 10:43:23</td>\n      <td>ERE BUCHTEL FG LLC</td>\n      <td>2023 S Colorado Blvd 103 Denver 80222</td>\n    </tr>\n    <tr>\n      <th>652</th>\n      <td>2020-BFN-0006128</td>\n      <td>Retail Food Establishment</td>\n      <td>Restaurant</td>\n      <td>Pending</td>\n      <td>2020-11-19 10:46:29</td>\n      <td>STARBUCKS CORPORATION</td>\n      <td>6691 N Tower Rd  Denver 80249</td>\n    </tr>\n    <tr>\n      <th>656</th>\n      <td>2020-BFN-0006881</td>\n      <td>Retail Food Establishment</td>\n      <td>Restaurant</td>\n      <td>Pending</td>\n      <td>2020-12-14 15:15:18</td>\n      <td>SODEXO AMERICA LLC</td>\n      <td>2055 E Evans Ave  Denver 80210</td>\n    </tr>\n    <tr>\n      <th>662</th>\n      <td>2021-BFN-0000237</td>\n      <td>Retail Food Establishment</td>\n      <td>Restaurant</td>\n      <td>Pending</td>\n      <td>2021-01-12 13:51:45</td>\n      <td>WHOLE SOL RINO LLC</td>\n      <td>3605  Walnut St  Denver 80205</td>\n    </tr>\n    <tr>\n      <th>671</th>\n      <td>2021-BFN-0001768</td>\n      <td>Retail Food Establishment</td>\n      <td>Restaurant</td>\n      <td>Pending</td>\n      <td>2021-03-25 13:01:07</td>\n      <td>HIMALAYAN SPICY, LLC</td>\n      <td>4275 N Tennyson St  Denver 80212</td>\n    </tr>\n  </tbody>\n</table>\n<p>82 rows × 7 columns</p>\n</div>"
     },
     "metadata": {},
     "execution_count": 82
    }
   ],
   "source": [
    "restaurants_df[restaurants_df['EXPIRATION_DATE'] >= \"2020\"]"
   ]
  },
  {
   "cell_type": "code",
   "execution_count": 86,
   "metadata": {},
   "outputs": [],
   "source": [
    "def get_zipcode(address):\n",
    "    if address[-5:] == 'nver ':\n",
    "        return np.NaN\n",
    "    return address[-5:]\n",
    "\n",
    "def get_city(address):\n",
    "    return address[-12:-6]\n",
    "\n",
    "def get_streetaddr(address):\n",
    "    return address[:-12].strip()"
   ]
  },
  {
   "cell_type": "code",
   "execution_count": 88,
   "metadata": {},
   "outputs": [
    {
     "output_type": "stream",
     "name": "stderr",
     "text": [
      "<ipython-input-88-576ff464961e>:1: SettingWithCopyWarning: \nA value is trying to be set on a copy of a slice from a DataFrame.\nTry using .loc[row_indexer,col_indexer] = value instead\n\nSee the caveats in the documentation: https://pandas.pydata.org/pandas-docs/stable/user_guide/indexing.html#returning-a-view-versus-a-copy\n  restaurants_df['STREET_ADDRESS'] = restaurants_df['ESTABLISHMENT_ADDRESS'].map(get_streetaddr)\n<ipython-input-88-576ff464961e>:2: SettingWithCopyWarning: \nA value is trying to be set on a copy of a slice from a DataFrame.\nTry using .loc[row_indexer,col_indexer] = value instead\n\nSee the caveats in the documentation: https://pandas.pydata.org/pandas-docs/stable/user_guide/indexing.html#returning-a-view-versus-a-copy\n  restaurants_df['CITY'] = 'Denver'\n<ipython-input-88-576ff464961e>:3: SettingWithCopyWarning: \nA value is trying to be set on a copy of a slice from a DataFrame.\nTry using .loc[row_indexer,col_indexer] = value instead\n\nSee the caveats in the documentation: https://pandas.pydata.org/pandas-docs/stable/user_guide/indexing.html#returning-a-view-versus-a-copy\n  restaurants_df['STATE'] = 'CO'\n<ipython-input-88-576ff464961e>:4: SettingWithCopyWarning: \nA value is trying to be set on a copy of a slice from a DataFrame.\nTry using .loc[row_indexer,col_indexer] = value instead\n\nSee the caveats in the documentation: https://pandas.pydata.org/pandas-docs/stable/user_guide/indexing.html#returning-a-view-versus-a-copy\n  restaurants_df['ZIPCODE'] = restaurants_df['ESTABLISHMENT_ADDRESS'].map(get_zipcode)\n"
     ]
    },
    {
     "output_type": "execute_result",
     "data": {
      "text/plain": [
       "                 BFN               LICENSE_TYPE LICENSE_SUB_TYPE  \\\n",
       "1   2021-BFN-0002028  Retail Food Establishment       Restaurant   \n",
       "4   2019-BFN-0011393  Retail Food Establishment       Restaurant   \n",
       "13  2020-BFN-0003219  Retail Food Establishment       Restaurant   \n",
       "24  2020-BFN-0002411  Retail Food Establishment       Restaurant   \n",
       "37  2020-BFN-0006879  Retail Food Establishment       Restaurant   \n",
       "\n",
       "   LICENSE_STATUS     EXPIRATION_DATE                    ENTITY_NAME  \\\n",
       "1         Pending 2021-04-06 13:23:48          PETUNIA BAKE SHOP LLC   \n",
       "4         Pending 2019-12-09 08:20:12  RAISING CANES RESTAURANTS LLC   \n",
       "13        Pending 2020-06-24 13:34:06                 EPIQ PIZZA LLC   \n",
       "24        Pending 2020-05-07 14:57:46       SAGE DINING SERVICES INC   \n",
       "37        Pending 2020-12-14 15:10:35             SODEXO AMERICA LLC   \n",
       "\n",
       "                 ESTABLISHMENT_ADDRESS        STREET_ADDRESS    CITY STATE  \\\n",
       "1        3000 W 23rd Ave  Denver 80211       3000 W 23rd Ave  Denver    CO   \n",
       "4   1190 S Colorado Blvd  Denver 80246  1190 S Colorado Blvd  Denver    CO   \n",
       "13   1147 N Broadway  103 Denver 80203  1147 N Broadway  103  Denver    CO   \n",
       "24        7701 E 1st Pl C Denver 80230       7701 E 1st Pl C  Denver    CO   \n",
       "37      2055 E Evans Ave  Denver 80210      2055 E Evans Ave  Denver    CO   \n",
       "\n",
       "   ZIPCODE  \n",
       "1    80211  \n",
       "4    80246  \n",
       "13   80203  \n",
       "24   80230  \n",
       "37   80210  "
      ],
      "text/html": "<div>\n<style scoped>\n    .dataframe tbody tr th:only-of-type {\n        vertical-align: middle;\n    }\n\n    .dataframe tbody tr th {\n        vertical-align: top;\n    }\n\n    .dataframe thead th {\n        text-align: right;\n    }\n</style>\n<table border=\"1\" class=\"dataframe\">\n  <thead>\n    <tr style=\"text-align: right;\">\n      <th></th>\n      <th>BFN</th>\n      <th>LICENSE_TYPE</th>\n      <th>LICENSE_SUB_TYPE</th>\n      <th>LICENSE_STATUS</th>\n      <th>EXPIRATION_DATE</th>\n      <th>ENTITY_NAME</th>\n      <th>ESTABLISHMENT_ADDRESS</th>\n      <th>STREET_ADDRESS</th>\n      <th>CITY</th>\n      <th>STATE</th>\n      <th>ZIPCODE</th>\n    </tr>\n  </thead>\n  <tbody>\n    <tr>\n      <th>1</th>\n      <td>2021-BFN-0002028</td>\n      <td>Retail Food Establishment</td>\n      <td>Restaurant</td>\n      <td>Pending</td>\n      <td>2021-04-06 13:23:48</td>\n      <td>PETUNIA BAKE SHOP LLC</td>\n      <td>3000 W 23rd Ave  Denver 80211</td>\n      <td>3000 W 23rd Ave</td>\n      <td>Denver</td>\n      <td>CO</td>\n      <td>80211</td>\n    </tr>\n    <tr>\n      <th>4</th>\n      <td>2019-BFN-0011393</td>\n      <td>Retail Food Establishment</td>\n      <td>Restaurant</td>\n      <td>Pending</td>\n      <td>2019-12-09 08:20:12</td>\n      <td>RAISING CANES RESTAURANTS LLC</td>\n      <td>1190 S Colorado Blvd  Denver 80246</td>\n      <td>1190 S Colorado Blvd</td>\n      <td>Denver</td>\n      <td>CO</td>\n      <td>80246</td>\n    </tr>\n    <tr>\n      <th>13</th>\n      <td>2020-BFN-0003219</td>\n      <td>Retail Food Establishment</td>\n      <td>Restaurant</td>\n      <td>Pending</td>\n      <td>2020-06-24 13:34:06</td>\n      <td>EPIQ PIZZA LLC</td>\n      <td>1147 N Broadway  103 Denver 80203</td>\n      <td>1147 N Broadway  103</td>\n      <td>Denver</td>\n      <td>CO</td>\n      <td>80203</td>\n    </tr>\n    <tr>\n      <th>24</th>\n      <td>2020-BFN-0002411</td>\n      <td>Retail Food Establishment</td>\n      <td>Restaurant</td>\n      <td>Pending</td>\n      <td>2020-05-07 14:57:46</td>\n      <td>SAGE DINING SERVICES INC</td>\n      <td>7701 E 1st Pl C Denver 80230</td>\n      <td>7701 E 1st Pl C</td>\n      <td>Denver</td>\n      <td>CO</td>\n      <td>80230</td>\n    </tr>\n    <tr>\n      <th>37</th>\n      <td>2020-BFN-0006879</td>\n      <td>Retail Food Establishment</td>\n      <td>Restaurant</td>\n      <td>Pending</td>\n      <td>2020-12-14 15:10:35</td>\n      <td>SODEXO AMERICA LLC</td>\n      <td>2055 E Evans Ave  Denver 80210</td>\n      <td>2055 E Evans Ave</td>\n      <td>Denver</td>\n      <td>CO</td>\n      <td>80210</td>\n    </tr>\n  </tbody>\n</table>\n</div>"
     },
     "metadata": {},
     "execution_count": 88
    }
   ],
   "source": [
    "restaurants_df['STREET_ADDRESS'] = restaurants_df['ESTABLISHMENT_ADDRESS'].map(get_streetaddr)\n",
    "restaurants_df['CITY'] = 'Denver'\n",
    "restaurants_df['STATE'] = 'CO'\n",
    "restaurants_df['ZIPCODE'] = restaurants_df['ESTABLISHMENT_ADDRESS'].map(get_zipcode)"
   ]
  },
  {
   "cell_type": "code",
   "execution_count": 109,
   "metadata": {},
   "outputs": [
    {
     "output_type": "execute_result",
     "data": {
      "text/plain": [
       "                 BFN               LICENSE_TYPE LICENSE_SUB_TYPE  \\\n",
       "1   2021-BFN-0002028  Retail Food Establishment       Restaurant   \n",
       "4   2019-BFN-0011393  Retail Food Establishment       Restaurant   \n",
       "13  2020-BFN-0003219  Retail Food Establishment       Restaurant   \n",
       "24  2020-BFN-0002411  Retail Food Establishment       Restaurant   \n",
       "37  2020-BFN-0006879  Retail Food Establishment       Restaurant   \n",
       "\n",
       "   LICENSE_STATUS     EXPIRATION_DATE                    ENTITY_NAME  \\\n",
       "1         Pending 2021-04-06 13:23:48          PETUNIA BAKE SHOP LLC   \n",
       "4         Pending 2019-12-09 08:20:12  RAISING CANES RESTAURANTS LLC   \n",
       "13        Pending 2020-06-24 13:34:06                 EPIQ PIZZA LLC   \n",
       "24        Pending 2020-05-07 14:57:46       SAGE DINING SERVICES INC   \n",
       "37        Pending 2020-12-14 15:10:35             SODEXO AMERICA LLC   \n",
       "\n",
       "                 ESTABLISHMENT_ADDRESS        STREET_ADDRESS    CITY STATE  \\\n",
       "1        3000 W 23rd Ave  Denver 80211       3000 W 23rd Ave  Denver    CO   \n",
       "4   1190 S Colorado Blvd  Denver 80246  1190 S Colorado Blvd  Denver    CO   \n",
       "13   1147 N Broadway  103 Denver 80203  1147 N Broadway  103  Denver    CO   \n",
       "24        7701 E 1st Pl C Denver 80230       7701 E 1st Pl C  Denver    CO   \n",
       "37      2055 E Evans Ave  Denver 80210      2055 E Evans Ave  Denver    CO   \n",
       "\n",
       "   ZIPCODE  \n",
       "1    80211  \n",
       "4    80246  \n",
       "13   80203  \n",
       "24   80230  \n",
       "37   80210  "
      ],
      "text/html": "<div>\n<style scoped>\n    .dataframe tbody tr th:only-of-type {\n        vertical-align: middle;\n    }\n\n    .dataframe tbody tr th {\n        vertical-align: top;\n    }\n\n    .dataframe thead th {\n        text-align: right;\n    }\n</style>\n<table border=\"1\" class=\"dataframe\">\n  <thead>\n    <tr style=\"text-align: right;\">\n      <th></th>\n      <th>BFN</th>\n      <th>LICENSE_TYPE</th>\n      <th>LICENSE_SUB_TYPE</th>\n      <th>LICENSE_STATUS</th>\n      <th>EXPIRATION_DATE</th>\n      <th>ENTITY_NAME</th>\n      <th>ESTABLISHMENT_ADDRESS</th>\n      <th>STREET_ADDRESS</th>\n      <th>CITY</th>\n      <th>STATE</th>\n      <th>ZIPCODE</th>\n    </tr>\n  </thead>\n  <tbody>\n    <tr>\n      <th>1</th>\n      <td>2021-BFN-0002028</td>\n      <td>Retail Food Establishment</td>\n      <td>Restaurant</td>\n      <td>Pending</td>\n      <td>2021-04-06 13:23:48</td>\n      <td>PETUNIA BAKE SHOP LLC</td>\n      <td>3000 W 23rd Ave  Denver 80211</td>\n      <td>3000 W 23rd Ave</td>\n      <td>Denver</td>\n      <td>CO</td>\n      <td>80211</td>\n    </tr>\n    <tr>\n      <th>4</th>\n      <td>2019-BFN-0011393</td>\n      <td>Retail Food Establishment</td>\n      <td>Restaurant</td>\n      <td>Pending</td>\n      <td>2019-12-09 08:20:12</td>\n      <td>RAISING CANES RESTAURANTS LLC</td>\n      <td>1190 S Colorado Blvd  Denver 80246</td>\n      <td>1190 S Colorado Blvd</td>\n      <td>Denver</td>\n      <td>CO</td>\n      <td>80246</td>\n    </tr>\n    <tr>\n      <th>13</th>\n      <td>2020-BFN-0003219</td>\n      <td>Retail Food Establishment</td>\n      <td>Restaurant</td>\n      <td>Pending</td>\n      <td>2020-06-24 13:34:06</td>\n      <td>EPIQ PIZZA LLC</td>\n      <td>1147 N Broadway  103 Denver 80203</td>\n      <td>1147 N Broadway  103</td>\n      <td>Denver</td>\n      <td>CO</td>\n      <td>80203</td>\n    </tr>\n    <tr>\n      <th>24</th>\n      <td>2020-BFN-0002411</td>\n      <td>Retail Food Establishment</td>\n      <td>Restaurant</td>\n      <td>Pending</td>\n      <td>2020-05-07 14:57:46</td>\n      <td>SAGE DINING SERVICES INC</td>\n      <td>7701 E 1st Pl C Denver 80230</td>\n      <td>7701 E 1st Pl C</td>\n      <td>Denver</td>\n      <td>CO</td>\n      <td>80230</td>\n    </tr>\n    <tr>\n      <th>37</th>\n      <td>2020-BFN-0006879</td>\n      <td>Retail Food Establishment</td>\n      <td>Restaurant</td>\n      <td>Pending</td>\n      <td>2020-12-14 15:10:35</td>\n      <td>SODEXO AMERICA LLC</td>\n      <td>2055 E Evans Ave  Denver 80210</td>\n      <td>2055 E Evans Ave</td>\n      <td>Denver</td>\n      <td>CO</td>\n      <td>80210</td>\n    </tr>\n  </tbody>\n</table>\n</div>"
     },
     "metadata": {},
     "execution_count": 109
    }
   ],
   "source": [
    "restaurants_df.head()"
   ]
  },
  {
   "cell_type": "code",
   "execution_count": 89,
   "metadata": {},
   "outputs": [],
   "source": [
    "restaurants_df[['STREET_ADDRESS', 'CITY', 'STATE', 'ZIPCODE']].to_csv('restdf_addr_tocoord.csv', header=None)"
   ]
  },
  {
   "cell_type": "code",
   "execution_count": 125,
   "metadata": {},
   "outputs": [
    {
     "output_type": "execute_result",
     "data": {
      "text/plain": [
       "   index                            given_address  match match_type  \\\n",
       "0    190  1195 S Colorado Blvd, Denver, CO, 80246  Match  Non_Exact   \n",
       "1    191   3743 N Federal Blvd, Denver, CO, 80211  Match      Exact   \n",
       "2    192       1300 S Broadway, Denver, CO, 80210  Match  Non_Exact   \n",
       "3    150       7357 E 29th Ave, Denver, CO, 80238  Match  Non_Exact   \n",
       "4    470      2449  Larimer St, Denver, CO, 80205  Match      Exact   \n",
       "\n",
       "                               given_input                coords      unk_val  \\\n",
       "0  1195 S COLORADO BLVD, DENVER, CO, 80246   -104.94074,39.69493  639438114.0   \n",
       "1     3743 FEDERAL BLVD, DENVER, CO, 80211  -105.02525,39.768547  177300887.0   \n",
       "2       1300 S BROADWAY, DENVER, CO, 80210  -104.987465,39.69287  177331283.0   \n",
       "3       7357 E 29TH AVE, DENVER, CO, 80238  -104.90283,39.758022  606059037.0   \n",
       "4       2449 LARIMER ST, DENVER, CO, 80205  -104.98705,39.757244  177303976.0   \n",
       "\n",
       "  unk_val2  \n",
       "0        R  \n",
       "1        L  \n",
       "2        L  \n",
       "3        L  \n",
       "4        L  "
      ],
      "text/html": "<div>\n<style scoped>\n    .dataframe tbody tr th:only-of-type {\n        vertical-align: middle;\n    }\n\n    .dataframe tbody tr th {\n        vertical-align: top;\n    }\n\n    .dataframe thead th {\n        text-align: right;\n    }\n</style>\n<table border=\"1\" class=\"dataframe\">\n  <thead>\n    <tr style=\"text-align: right;\">\n      <th></th>\n      <th>index</th>\n      <th>given_address</th>\n      <th>match</th>\n      <th>match_type</th>\n      <th>given_input</th>\n      <th>coords</th>\n      <th>unk_val</th>\n      <th>unk_val2</th>\n    </tr>\n  </thead>\n  <tbody>\n    <tr>\n      <th>0</th>\n      <td>190</td>\n      <td>1195 S Colorado Blvd, Denver, CO, 80246</td>\n      <td>Match</td>\n      <td>Non_Exact</td>\n      <td>1195 S COLORADO BLVD, DENVER, CO, 80246</td>\n      <td>-104.94074,39.69493</td>\n      <td>639438114.0</td>\n      <td>R</td>\n    </tr>\n    <tr>\n      <th>1</th>\n      <td>191</td>\n      <td>3743 N Federal Blvd, Denver, CO, 80211</td>\n      <td>Match</td>\n      <td>Exact</td>\n      <td>3743 FEDERAL BLVD, DENVER, CO, 80211</td>\n      <td>-105.02525,39.768547</td>\n      <td>177300887.0</td>\n      <td>L</td>\n    </tr>\n    <tr>\n      <th>2</th>\n      <td>192</td>\n      <td>1300 S Broadway, Denver, CO, 80210</td>\n      <td>Match</td>\n      <td>Non_Exact</td>\n      <td>1300 S BROADWAY, DENVER, CO, 80210</td>\n      <td>-104.987465,39.69287</td>\n      <td>177331283.0</td>\n      <td>L</td>\n    </tr>\n    <tr>\n      <th>3</th>\n      <td>150</td>\n      <td>7357 E 29th Ave, Denver, CO, 80238</td>\n      <td>Match</td>\n      <td>Non_Exact</td>\n      <td>7357 E 29TH AVE, DENVER, CO, 80238</td>\n      <td>-104.90283,39.758022</td>\n      <td>606059037.0</td>\n      <td>L</td>\n    </tr>\n    <tr>\n      <th>4</th>\n      <td>470</td>\n      <td>2449  Larimer St, Denver, CO, 80205</td>\n      <td>Match</td>\n      <td>Exact</td>\n      <td>2449 LARIMER ST, DENVER, CO, 80205</td>\n      <td>-104.98705,39.757244</td>\n      <td>177303976.0</td>\n      <td>L</td>\n    </tr>\n  </tbody>\n</table>\n</div>"
     },
     "metadata": {},
     "execution_count": 125
    }
   ],
   "source": [
    "new_df = pd.read_csv('GeocodeResults.csv', names=['index', 'given_address', 'match', 'match_type', 'given_input', 'coords', 'unk_val', 'unk_val2'], header=None)\n",
    "new_df.head()"
   ]
  },
  {
   "cell_type": "code",
   "execution_count": 126,
   "metadata": {},
   "outputs": [
    {
     "output_type": "execute_result",
     "data": {
      "text/plain": [
       "                                 given_address  match match_type  \\\n",
       "index                                                              \n",
       "190    1195 S Colorado Blvd, Denver, CO, 80246  Match  Non_Exact   \n",
       "191     3743 N Federal Blvd, Denver, CO, 80211  Match      Exact   \n",
       "192         1300 S Broadway, Denver, CO, 80210  Match  Non_Exact   \n",
       "150         7357 E 29th Ave, Denver, CO, 80238  Match  Non_Exact   \n",
       "470        2449  Larimer St, Denver, CO, 80205  Match      Exact   \n",
       "\n",
       "                                   given_input                coords  \\\n",
       "index                                                                  \n",
       "190    1195 S COLORADO BLVD, DENVER, CO, 80246   -104.94074,39.69493   \n",
       "191       3743 FEDERAL BLVD, DENVER, CO, 80211  -105.02525,39.768547   \n",
       "192         1300 S BROADWAY, DENVER, CO, 80210  -104.987465,39.69287   \n",
       "150         7357 E 29TH AVE, DENVER, CO, 80238  -104.90283,39.758022   \n",
       "470         2449 LARIMER ST, DENVER, CO, 80205  -104.98705,39.757244   \n",
       "\n",
       "           unk_val unk_val2  \n",
       "index                        \n",
       "190    639438114.0        R  \n",
       "191    177300887.0        L  \n",
       "192    177331283.0        L  \n",
       "150    606059037.0        L  \n",
       "470    177303976.0        L  "
      ],
      "text/html": "<div>\n<style scoped>\n    .dataframe tbody tr th:only-of-type {\n        vertical-align: middle;\n    }\n\n    .dataframe tbody tr th {\n        vertical-align: top;\n    }\n\n    .dataframe thead th {\n        text-align: right;\n    }\n</style>\n<table border=\"1\" class=\"dataframe\">\n  <thead>\n    <tr style=\"text-align: right;\">\n      <th></th>\n      <th>given_address</th>\n      <th>match</th>\n      <th>match_type</th>\n      <th>given_input</th>\n      <th>coords</th>\n      <th>unk_val</th>\n      <th>unk_val2</th>\n    </tr>\n    <tr>\n      <th>index</th>\n      <th></th>\n      <th></th>\n      <th></th>\n      <th></th>\n      <th></th>\n      <th></th>\n      <th></th>\n    </tr>\n  </thead>\n  <tbody>\n    <tr>\n      <th>190</th>\n      <td>1195 S Colorado Blvd, Denver, CO, 80246</td>\n      <td>Match</td>\n      <td>Non_Exact</td>\n      <td>1195 S COLORADO BLVD, DENVER, CO, 80246</td>\n      <td>-104.94074,39.69493</td>\n      <td>639438114.0</td>\n      <td>R</td>\n    </tr>\n    <tr>\n      <th>191</th>\n      <td>3743 N Federal Blvd, Denver, CO, 80211</td>\n      <td>Match</td>\n      <td>Exact</td>\n      <td>3743 FEDERAL BLVD, DENVER, CO, 80211</td>\n      <td>-105.02525,39.768547</td>\n      <td>177300887.0</td>\n      <td>L</td>\n    </tr>\n    <tr>\n      <th>192</th>\n      <td>1300 S Broadway, Denver, CO, 80210</td>\n      <td>Match</td>\n      <td>Non_Exact</td>\n      <td>1300 S BROADWAY, DENVER, CO, 80210</td>\n      <td>-104.987465,39.69287</td>\n      <td>177331283.0</td>\n      <td>L</td>\n    </tr>\n    <tr>\n      <th>150</th>\n      <td>7357 E 29th Ave, Denver, CO, 80238</td>\n      <td>Match</td>\n      <td>Non_Exact</td>\n      <td>7357 E 29TH AVE, DENVER, CO, 80238</td>\n      <td>-104.90283,39.758022</td>\n      <td>606059037.0</td>\n      <td>L</td>\n    </tr>\n    <tr>\n      <th>470</th>\n      <td>2449  Larimer St, Denver, CO, 80205</td>\n      <td>Match</td>\n      <td>Exact</td>\n      <td>2449 LARIMER ST, DENVER, CO, 80205</td>\n      <td>-104.98705,39.757244</td>\n      <td>177303976.0</td>\n      <td>L</td>\n    </tr>\n  </tbody>\n</table>\n</div>"
     },
     "metadata": {},
     "execution_count": 126
    }
   ],
   "source": [
    "new_df = new_df.set_index('index')\n",
    "new_df.head()"
   ]
  },
  {
   "cell_type": "code",
   "execution_count": 127,
   "metadata": {},
   "outputs": [
    {
     "output_type": "execute_result",
     "data": {
      "text/plain": [
       "                                     given_address  match match_type  \\\n",
       "index                                                                  \n",
       "1               3000 W 23rd Ave, Denver, CO, 80211  Match  Non_Exact   \n",
       "4          1190 S Colorado Blvd, Denver, CO, 80246  Match  Non_Exact   \n",
       "13         1147 N Broadway  103, Denver, CO, 80203  Match      Exact   \n",
       "24              7701 E 1st Pl C, Denver, CO, 80230  Match  Non_Exact   \n",
       "37             2055 E Evans Ave, Denver, CO, 80210  Match  Non_Exact   \n",
       "...                                            ...    ...        ...   \n",
       "628    2023 S Colorado Blvd 103, Denver, CO, 80222  Match  Non_Exact   \n",
       "652             6691 N Tower Rd, Denver, CO, 80249  Match      Exact   \n",
       "656            2055 E Evans Ave, Denver, CO, 80210  Match  Non_Exact   \n",
       "662             3605  Walnut St, Denver, CO, 80205  Match      Exact   \n",
       "671          4275 N Tennyson St, Denver, CO, 80212  Match      Exact   \n",
       "\n",
       "                                   given_input                coords  \\\n",
       "index                                                                  \n",
       "1           3000 W 23RD AVE, DENVER, CO, 80211    -105.02535,39.7512   \n",
       "4      1190 S COLORADO BLVD, DENVER, CO, 80246   -104.94062,39.69459   \n",
       "13            1147 BROADWAY, DENVER, CO, 80203   -104.98741,39.73453   \n",
       "24            7701 E 1ST PL, DENVER, CO, 80230   -104.89654,39.72211   \n",
       "37         2055 E EVANS AVE, DENVER, CO, 80210   -104.96343,39.67851   \n",
       "...                                        ...                   ...   \n",
       "628    2023 S COLORADO BLVD, DENVER, CO, 80222  -104.94087,39.679634   \n",
       "652           6691 TOWER RD, DENVER, CO, 80249  -104.77203,39.817997   \n",
       "656        2055 E EVANS AVE, DENVER, CO, 80210   -104.96343,39.67851   \n",
       "662          3605 WALNUT ST, DENVER, CO, 80205  -104.974075,39.76864   \n",
       "671        4275 TENNYSON ST, DENVER, CO, 80212  -105.04399,39.774525   \n",
       "\n",
       "           unk_val unk_val2  \n",
       "index                        \n",
       "1      177301496.0        L  \n",
       "4      612641847.0        L  \n",
       "13     177304788.0        L  \n",
       "24     640072451.0        R  \n",
       "37     177623972.0        L  \n",
       "...            ...      ...  \n",
       "628    639438177.0        R  \n",
       "652    650196118.0        L  \n",
       "656    177623972.0        L  \n",
       "662    177305043.0        L  \n",
       "671    177299629.0        L  \n",
       "\n",
       "[83 rows x 7 columns]"
      ],
      "text/html": "<div>\n<style scoped>\n    .dataframe tbody tr th:only-of-type {\n        vertical-align: middle;\n    }\n\n    .dataframe tbody tr th {\n        vertical-align: top;\n    }\n\n    .dataframe thead th {\n        text-align: right;\n    }\n</style>\n<table border=\"1\" class=\"dataframe\">\n  <thead>\n    <tr style=\"text-align: right;\">\n      <th></th>\n      <th>given_address</th>\n      <th>match</th>\n      <th>match_type</th>\n      <th>given_input</th>\n      <th>coords</th>\n      <th>unk_val</th>\n      <th>unk_val2</th>\n    </tr>\n    <tr>\n      <th>index</th>\n      <th></th>\n      <th></th>\n      <th></th>\n      <th></th>\n      <th></th>\n      <th></th>\n      <th></th>\n    </tr>\n  </thead>\n  <tbody>\n    <tr>\n      <th>1</th>\n      <td>3000 W 23rd Ave, Denver, CO, 80211</td>\n      <td>Match</td>\n      <td>Non_Exact</td>\n      <td>3000 W 23RD AVE, DENVER, CO, 80211</td>\n      <td>-105.02535,39.7512</td>\n      <td>177301496.0</td>\n      <td>L</td>\n    </tr>\n    <tr>\n      <th>4</th>\n      <td>1190 S Colorado Blvd, Denver, CO, 80246</td>\n      <td>Match</td>\n      <td>Non_Exact</td>\n      <td>1190 S COLORADO BLVD, DENVER, CO, 80246</td>\n      <td>-104.94062,39.69459</td>\n      <td>612641847.0</td>\n      <td>L</td>\n    </tr>\n    <tr>\n      <th>13</th>\n      <td>1147 N Broadway  103, Denver, CO, 80203</td>\n      <td>Match</td>\n      <td>Exact</td>\n      <td>1147 BROADWAY, DENVER, CO, 80203</td>\n      <td>-104.98741,39.73453</td>\n      <td>177304788.0</td>\n      <td>L</td>\n    </tr>\n    <tr>\n      <th>24</th>\n      <td>7701 E 1st Pl C, Denver, CO, 80230</td>\n      <td>Match</td>\n      <td>Non_Exact</td>\n      <td>7701 E 1ST PL, DENVER, CO, 80230</td>\n      <td>-104.89654,39.72211</td>\n      <td>640072451.0</td>\n      <td>R</td>\n    </tr>\n    <tr>\n      <th>37</th>\n      <td>2055 E Evans Ave, Denver, CO, 80210</td>\n      <td>Match</td>\n      <td>Non_Exact</td>\n      <td>2055 E EVANS AVE, DENVER, CO, 80210</td>\n      <td>-104.96343,39.67851</td>\n      <td>177623972.0</td>\n      <td>L</td>\n    </tr>\n    <tr>\n      <th>...</th>\n      <td>...</td>\n      <td>...</td>\n      <td>...</td>\n      <td>...</td>\n      <td>...</td>\n      <td>...</td>\n      <td>...</td>\n    </tr>\n    <tr>\n      <th>628</th>\n      <td>2023 S Colorado Blvd 103, Denver, CO, 80222</td>\n      <td>Match</td>\n      <td>Non_Exact</td>\n      <td>2023 S COLORADO BLVD, DENVER, CO, 80222</td>\n      <td>-104.94087,39.679634</td>\n      <td>639438177.0</td>\n      <td>R</td>\n    </tr>\n    <tr>\n      <th>652</th>\n      <td>6691 N Tower Rd, Denver, CO, 80249</td>\n      <td>Match</td>\n      <td>Exact</td>\n      <td>6691 TOWER RD, DENVER, CO, 80249</td>\n      <td>-104.77203,39.817997</td>\n      <td>650196118.0</td>\n      <td>L</td>\n    </tr>\n    <tr>\n      <th>656</th>\n      <td>2055 E Evans Ave, Denver, CO, 80210</td>\n      <td>Match</td>\n      <td>Non_Exact</td>\n      <td>2055 E EVANS AVE, DENVER, CO, 80210</td>\n      <td>-104.96343,39.67851</td>\n      <td>177623972.0</td>\n      <td>L</td>\n    </tr>\n    <tr>\n      <th>662</th>\n      <td>3605  Walnut St, Denver, CO, 80205</td>\n      <td>Match</td>\n      <td>Exact</td>\n      <td>3605 WALNUT ST, DENVER, CO, 80205</td>\n      <td>-104.974075,39.76864</td>\n      <td>177305043.0</td>\n      <td>L</td>\n    </tr>\n    <tr>\n      <th>671</th>\n      <td>4275 N Tennyson St, Denver, CO, 80212</td>\n      <td>Match</td>\n      <td>Exact</td>\n      <td>4275 TENNYSON ST, DENVER, CO, 80212</td>\n      <td>-105.04399,39.774525</td>\n      <td>177299629.0</td>\n      <td>L</td>\n    </tr>\n  </tbody>\n</table>\n<p>83 rows × 7 columns</p>\n</div>"
     },
     "metadata": {},
     "execution_count": 127
    }
   ],
   "source": [
    "new_df.sort_index()"
   ]
  },
  {
   "cell_type": "code",
   "execution_count": 128,
   "metadata": {},
   "outputs": [
    {
     "output_type": "execute_result",
     "data": {
      "text/plain": [
       "Empty DataFrame\n",
       "Columns: [given_address, match, match_type, given_input, coords, unk_val, unk_val2]\n",
       "Index: []"
      ],
      "text/html": "<div>\n<style scoped>\n    .dataframe tbody tr th:only-of-type {\n        vertical-align: middle;\n    }\n\n    .dataframe tbody tr th {\n        vertical-align: top;\n    }\n\n    .dataframe thead th {\n        text-align: right;\n    }\n</style>\n<table border=\"1\" class=\"dataframe\">\n  <thead>\n    <tr style=\"text-align: right;\">\n      <th></th>\n      <th>given_address</th>\n      <th>match</th>\n      <th>match_type</th>\n      <th>given_input</th>\n      <th>coords</th>\n      <th>unk_val</th>\n      <th>unk_val2</th>\n    </tr>\n    <tr>\n      <th>index</th>\n      <th></th>\n      <th></th>\n      <th></th>\n      <th></th>\n      <th></th>\n      <th></th>\n      <th></th>\n    </tr>\n  </thead>\n  <tbody>\n  </tbody>\n</table>\n</div>"
     },
     "metadata": {},
     "execution_count": 128
    }
   ],
   "source": [
    "new_df[new_df.coords.isnull()]"
   ]
  },
  {
   "cell_type": "code",
   "execution_count": 129,
   "metadata": {},
   "outputs": [
    {
     "output_type": "execute_result",
     "data": {
      "text/plain": [
       "                                 given_address  match match_type  \\\n",
       "index                                                              \n",
       "190    1195 S Colorado Blvd, Denver, CO, 80246  Match  Non_Exact   \n",
       "191     3743 N Federal Blvd, Denver, CO, 80211  Match      Exact   \n",
       "192         1300 S Broadway, Denver, CO, 80210  Match  Non_Exact   \n",
       "150         7357 E 29th Ave, Denver, CO, 80238  Match  Non_Exact   \n",
       "470        2449  Larimer St, Denver, CO, 80205  Match      Exact   \n",
       "\n",
       "                                   given_input                coords  \\\n",
       "index                                                                  \n",
       "190    1195 S COLORADO BLVD, DENVER, CO, 80246   -104.94074,39.69493   \n",
       "191       3743 FEDERAL BLVD, DENVER, CO, 80211  -105.02525,39.768547   \n",
       "192         1300 S BROADWAY, DENVER, CO, 80210  -104.987465,39.69287   \n",
       "150         7357 E 29TH AVE, DENVER, CO, 80238  -104.90283,39.758022   \n",
       "470         2449 LARIMER ST, DENVER, CO, 80205  -104.98705,39.757244   \n",
       "\n",
       "           unk_val unk_val2            0          1  \n",
       "index                                                \n",
       "190    639438114.0        R   -104.94074   39.69493  \n",
       "191    177300887.0        L   -105.02525  39.768547  \n",
       "192    177331283.0        L  -104.987465   39.69287  \n",
       "150    606059037.0        L   -104.90283  39.758022  \n",
       "470    177303976.0        L   -104.98705  39.757244  "
      ],
      "text/html": "<div>\n<style scoped>\n    .dataframe tbody tr th:only-of-type {\n        vertical-align: middle;\n    }\n\n    .dataframe tbody tr th {\n        vertical-align: top;\n    }\n\n    .dataframe thead th {\n        text-align: right;\n    }\n</style>\n<table border=\"1\" class=\"dataframe\">\n  <thead>\n    <tr style=\"text-align: right;\">\n      <th></th>\n      <th>given_address</th>\n      <th>match</th>\n      <th>match_type</th>\n      <th>given_input</th>\n      <th>coords</th>\n      <th>unk_val</th>\n      <th>unk_val2</th>\n      <th>0</th>\n      <th>1</th>\n    </tr>\n    <tr>\n      <th>index</th>\n      <th></th>\n      <th></th>\n      <th></th>\n      <th></th>\n      <th></th>\n      <th></th>\n      <th></th>\n      <th></th>\n      <th></th>\n    </tr>\n  </thead>\n  <tbody>\n    <tr>\n      <th>190</th>\n      <td>1195 S Colorado Blvd, Denver, CO, 80246</td>\n      <td>Match</td>\n      <td>Non_Exact</td>\n      <td>1195 S COLORADO BLVD, DENVER, CO, 80246</td>\n      <td>-104.94074,39.69493</td>\n      <td>639438114.0</td>\n      <td>R</td>\n      <td>-104.94074</td>\n      <td>39.69493</td>\n    </tr>\n    <tr>\n      <th>191</th>\n      <td>3743 N Federal Blvd, Denver, CO, 80211</td>\n      <td>Match</td>\n      <td>Exact</td>\n      <td>3743 FEDERAL BLVD, DENVER, CO, 80211</td>\n      <td>-105.02525,39.768547</td>\n      <td>177300887.0</td>\n      <td>L</td>\n      <td>-105.02525</td>\n      <td>39.768547</td>\n    </tr>\n    <tr>\n      <th>192</th>\n      <td>1300 S Broadway, Denver, CO, 80210</td>\n      <td>Match</td>\n      <td>Non_Exact</td>\n      <td>1300 S BROADWAY, DENVER, CO, 80210</td>\n      <td>-104.987465,39.69287</td>\n      <td>177331283.0</td>\n      <td>L</td>\n      <td>-104.987465</td>\n      <td>39.69287</td>\n    </tr>\n    <tr>\n      <th>150</th>\n      <td>7357 E 29th Ave, Denver, CO, 80238</td>\n      <td>Match</td>\n      <td>Non_Exact</td>\n      <td>7357 E 29TH AVE, DENVER, CO, 80238</td>\n      <td>-104.90283,39.758022</td>\n      <td>606059037.0</td>\n      <td>L</td>\n      <td>-104.90283</td>\n      <td>39.758022</td>\n    </tr>\n    <tr>\n      <th>470</th>\n      <td>2449  Larimer St, Denver, CO, 80205</td>\n      <td>Match</td>\n      <td>Exact</td>\n      <td>2449 LARIMER ST, DENVER, CO, 80205</td>\n      <td>-104.98705,39.757244</td>\n      <td>177303976.0</td>\n      <td>L</td>\n      <td>-104.98705</td>\n      <td>39.757244</td>\n    </tr>\n  </tbody>\n</table>\n</div>"
     },
     "metadata": {},
     "execution_count": 129
    }
   ],
   "source": [
    "new_df = pd.concat([new_df, new_df['coords'].str.split(',', expand=True)], axis=1)\n",
    "new_df.head()"
   ]
  },
  {
   "cell_type": "code",
   "execution_count": 142,
   "metadata": {},
   "outputs": [],
   "source": [
    "new_df.rename(columns={0:'longitude', 1:'latitude'}, inplace=True)"
   ]
  },
  {
   "cell_type": "code",
   "execution_count": 144,
   "metadata": {},
   "outputs": [
    {
     "output_type": "execute_result",
     "data": {
      "text/plain": [
       "                                     given_address     match match_type  \\\n",
       "index                                                                     \n",
       "190        1195 S Colorado Blvd, Denver, CO, 80246     Match  Non_Exact   \n",
       "191         3743 N Federal Blvd, Denver, CO, 80211     Match      Exact   \n",
       "192             1300 S Broadway, Denver, CO, 80210     Match  Non_Exact   \n",
       "150             7357 E 29th Ave, Denver, CO, 80238     Match  Non_Exact   \n",
       "470            2449  Larimer St, Denver, CO, 80205     Match      Exact   \n",
       "...                                            ...       ...        ...   \n",
       "547          3550 W 38th Ave 80, Denver, CO, 80211     Match  Non_Exact   \n",
       "306           1998 N Downing St, Denver, CO, 80218  No_Match        NaN   \n",
       "309               24 N Broadway, Denver, CO, 80203     Match      Exact   \n",
       "628    2023 S Colorado Blvd 103, Denver, CO, 80222     Match  Non_Exact   \n",
       "87             4475 N Peoria St, Denver, CO, 80239     Match      Exact   \n",
       "\n",
       "                                   given_input  \\\n",
       "index                                            \n",
       "190    1195 S COLORADO BLVD, DENVER, CO, 80246   \n",
       "191       3743 FEDERAL BLVD, DENVER, CO, 80211   \n",
       "192         1300 S BROADWAY, DENVER, CO, 80210   \n",
       "150         7357 E 29TH AVE, DENVER, CO, 80238   \n",
       "470         2449 LARIMER ST, DENVER, CO, 80205   \n",
       "...                                        ...   \n",
       "547         3550 W 38TH AVE, DENVER, CO, 80211   \n",
       "306                                        NaN   \n",
       "309             24 BROADWAY, DENVER, CO, 80203   \n",
       "628    2023 S COLORADO BLVD, DENVER, CO, 80222   \n",
       "87           4475 PEORIA ST, DENVER, CO, 80239   \n",
       "\n",
       "                                      coords      unk_val unk_val2  \\\n",
       "index                                                                \n",
       "190                      -104.94074,39.69493  639438114.0        R   \n",
       "191                     -105.02525,39.768547  177300887.0        L   \n",
       "192                     -104.987465,39.69287  177331283.0        L   \n",
       "150                     -104.90283,39.758022  606059037.0        L   \n",
       "470                     -104.98705,39.757244  177303976.0        L   \n",
       "...                                      ...          ...      ...   \n",
       "547                      -105.03407,39.76952  177300655.0        L   \n",
       "306    -104.97281995941235,39.74668421718216          NaN      NaN   \n",
       "309                    -104.987495,39.716835  177330871.0        R   \n",
       "628                     -104.94087,39.679634  639438177.0        R   \n",
       "87                      -104.84704,39.777622  177350353.0        L   \n",
       "\n",
       "                 longitude           latitude  \n",
       "index                                          \n",
       "190             -104.94074           39.69493  \n",
       "191             -105.02525          39.768547  \n",
       "192            -104.987465           39.69287  \n",
       "150             -104.90283          39.758022  \n",
       "470             -104.98705          39.757244  \n",
       "...                    ...                ...  \n",
       "547             -105.03407           39.76952  \n",
       "306    -104.97281995941235  39.74668421718216  \n",
       "309            -104.987495          39.716835  \n",
       "628             -104.94087          39.679634  \n",
       "87              -104.84704          39.777622  \n",
       "\n",
       "[83 rows x 9 columns]"
      ],
      "text/html": "<div>\n<style scoped>\n    .dataframe tbody tr th:only-of-type {\n        vertical-align: middle;\n    }\n\n    .dataframe tbody tr th {\n        vertical-align: top;\n    }\n\n    .dataframe thead th {\n        text-align: right;\n    }\n</style>\n<table border=\"1\" class=\"dataframe\">\n  <thead>\n    <tr style=\"text-align: right;\">\n      <th></th>\n      <th>given_address</th>\n      <th>match</th>\n      <th>match_type</th>\n      <th>given_input</th>\n      <th>coords</th>\n      <th>unk_val</th>\n      <th>unk_val2</th>\n      <th>longitude</th>\n      <th>latitude</th>\n    </tr>\n    <tr>\n      <th>index</th>\n      <th></th>\n      <th></th>\n      <th></th>\n      <th></th>\n      <th></th>\n      <th></th>\n      <th></th>\n      <th></th>\n      <th></th>\n    </tr>\n  </thead>\n  <tbody>\n    <tr>\n      <th>190</th>\n      <td>1195 S Colorado Blvd, Denver, CO, 80246</td>\n      <td>Match</td>\n      <td>Non_Exact</td>\n      <td>1195 S COLORADO BLVD, DENVER, CO, 80246</td>\n      <td>-104.94074,39.69493</td>\n      <td>639438114.0</td>\n      <td>R</td>\n      <td>-104.94074</td>\n      <td>39.69493</td>\n    </tr>\n    <tr>\n      <th>191</th>\n      <td>3743 N Federal Blvd, Denver, CO, 80211</td>\n      <td>Match</td>\n      <td>Exact</td>\n      <td>3743 FEDERAL BLVD, DENVER, CO, 80211</td>\n      <td>-105.02525,39.768547</td>\n      <td>177300887.0</td>\n      <td>L</td>\n      <td>-105.02525</td>\n      <td>39.768547</td>\n    </tr>\n    <tr>\n      <th>192</th>\n      <td>1300 S Broadway, Denver, CO, 80210</td>\n      <td>Match</td>\n      <td>Non_Exact</td>\n      <td>1300 S BROADWAY, DENVER, CO, 80210</td>\n      <td>-104.987465,39.69287</td>\n      <td>177331283.0</td>\n      <td>L</td>\n      <td>-104.987465</td>\n      <td>39.69287</td>\n    </tr>\n    <tr>\n      <th>150</th>\n      <td>7357 E 29th Ave, Denver, CO, 80238</td>\n      <td>Match</td>\n      <td>Non_Exact</td>\n      <td>7357 E 29TH AVE, DENVER, CO, 80238</td>\n      <td>-104.90283,39.758022</td>\n      <td>606059037.0</td>\n      <td>L</td>\n      <td>-104.90283</td>\n      <td>39.758022</td>\n    </tr>\n    <tr>\n      <th>470</th>\n      <td>2449  Larimer St, Denver, CO, 80205</td>\n      <td>Match</td>\n      <td>Exact</td>\n      <td>2449 LARIMER ST, DENVER, CO, 80205</td>\n      <td>-104.98705,39.757244</td>\n      <td>177303976.0</td>\n      <td>L</td>\n      <td>-104.98705</td>\n      <td>39.757244</td>\n    </tr>\n    <tr>\n      <th>...</th>\n      <td>...</td>\n      <td>...</td>\n      <td>...</td>\n      <td>...</td>\n      <td>...</td>\n      <td>...</td>\n      <td>...</td>\n      <td>...</td>\n      <td>...</td>\n    </tr>\n    <tr>\n      <th>547</th>\n      <td>3550 W 38th Ave 80, Denver, CO, 80211</td>\n      <td>Match</td>\n      <td>Non_Exact</td>\n      <td>3550 W 38TH AVE, DENVER, CO, 80211</td>\n      <td>-105.03407,39.76952</td>\n      <td>177300655.0</td>\n      <td>L</td>\n      <td>-105.03407</td>\n      <td>39.76952</td>\n    </tr>\n    <tr>\n      <th>306</th>\n      <td>1998 N Downing St, Denver, CO, 80218</td>\n      <td>No_Match</td>\n      <td>NaN</td>\n      <td>NaN</td>\n      <td>-104.97281995941235,39.74668421718216</td>\n      <td>NaN</td>\n      <td>NaN</td>\n      <td>-104.97281995941235</td>\n      <td>39.74668421718216</td>\n    </tr>\n    <tr>\n      <th>309</th>\n      <td>24 N Broadway, Denver, CO, 80203</td>\n      <td>Match</td>\n      <td>Exact</td>\n      <td>24 BROADWAY, DENVER, CO, 80203</td>\n      <td>-104.987495,39.716835</td>\n      <td>177330871.0</td>\n      <td>R</td>\n      <td>-104.987495</td>\n      <td>39.716835</td>\n    </tr>\n    <tr>\n      <th>628</th>\n      <td>2023 S Colorado Blvd 103, Denver, CO, 80222</td>\n      <td>Match</td>\n      <td>Non_Exact</td>\n      <td>2023 S COLORADO BLVD, DENVER, CO, 80222</td>\n      <td>-104.94087,39.679634</td>\n      <td>639438177.0</td>\n      <td>R</td>\n      <td>-104.94087</td>\n      <td>39.679634</td>\n    </tr>\n    <tr>\n      <th>87</th>\n      <td>4475 N Peoria St, Denver, CO, 80239</td>\n      <td>Match</td>\n      <td>Exact</td>\n      <td>4475 PEORIA ST, DENVER, CO, 80239</td>\n      <td>-104.84704,39.777622</td>\n      <td>177350353.0</td>\n      <td>L</td>\n      <td>-104.84704</td>\n      <td>39.777622</td>\n    </tr>\n  </tbody>\n</table>\n<p>83 rows × 9 columns</p>\n</div>"
     },
     "metadata": {},
     "execution_count": 144
    }
   ],
   "source": [
    "new_df"
   ]
  },
  {
   "cell_type": "code",
   "execution_count": null,
   "metadata": {},
   "outputs": [],
   "source": []
  }
 ]
}